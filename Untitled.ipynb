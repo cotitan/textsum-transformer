{
 "cells": [
  {
   "cell_type": "code",
   "execution_count": 1,
   "metadata": {},
   "outputs": [],
   "source": [
    "from Transformer import Transformer\n",
    "from utils import BatchManager, load_data\n",
    "import translate\n",
    "from translate import greedy\n",
    "from imp import reload\n",
    "import torch\n",
    "import os\n",
    "import numpy as np\n",
    "import matplotlib.pyplot as plt\n",
    "import json\n",
    "from translate import greedy\n",
    "\n",
    "os.environ['CUDA_VISIBLE_DEVICES'] = '3'"
   ]
  },
  {
   "cell_type": "code",
   "execution_count": 12,
   "metadata": {},
   "outputs": [],
   "source": [
    "data_dir = '/home/disk3/tiankeke/sumdata/'\n",
    "TEST_X = os.path.join(data_dir, 'Giga/input.txt')\n",
    "\n",
    "vocab_file = 'sumdata/small_vocab.json'\n",
    "vocab = json.load(open(vocab_file))\n",
    "\n",
    "max_src_len = 100\n",
    "max_tgt_len = 40\n",
    "bsz = 10\n",
    "\n",
    "test_x = BatchManager(load_data(TEST_X, max_src_len), bsz, vocab)\n"
   ]
  },
  {
   "cell_type": "code",
   "execution_count": 3,
   "metadata": {},
   "outputs": [],
   "source": [
    "model = Transformer(len(vocab), len(vocab), 200, 200, 2, 4, 256,\n",
    "                    1024, src_tgt_emb_share=False, tgt_prj_wt_share=True).cuda().eval()\n",
    "states = torch.load('models/params_v2_9.pkl')\n",
    "model.load_state_dict(states['state_dict'])"
   ]
  },
  {
   "cell_type": "code",
   "execution_count": 4,
   "metadata": {
    "collapsed": true
   },
   "outputs": [],
   "source": [
    "def calc_entropy(attns):\n",
    "    \"\"\"\n",
    "    Calculate the entropy of attention distribution over src text\n",
    "    :param attns: [bsz, len_tgt, len_src]\n",
    "    \"\"\"\n",
    "    ent_word = (- np.log(attns) * attns).sum(axis=-1)\n",
    "    ent_stnc = ent_word.sum(axis=-1) / (attns.shape[1])\n",
    "    ent_batch =ent_stnc.sum() / attns.shape[0]\n",
    "    return ent_word, ent_stnc, ent_batch\n",
    "\n",
    "def plot_bar(dist):\n",
    "    plt.bar(range(len(dist)), height=dist)\n",
    "    plt.show()"
   ]
  },
  {
   "cell_type": "code",
   "execution_count": 17,
   "metadata": {},
   "outputs": [],
   "source": [
    "_, x = test_x.next_batch()\n",
    "logits, attns = greedy(model, x, vocab)\n",
    "attns = attns.cpu().detach().numpy()\n",
    "attns += 1e-9"
   ]
  },
  {
   "cell_type": "code",
   "execution_count": 14,
   "metadata": {},
   "outputs": [
    {
     "data": {
      "text/plain": [
       "(10, 14, 38)"
      ]
     },
     "execution_count": 14,
     "metadata": {},
     "output_type": "execute_result"
    }
   ],
   "source": [
    "attns.shape"
   ]
  },
  {
   "cell_type": "code",
   "execution_count": 18,
   "metadata": {},
   "outputs": [],
   "source": [
    "ent_w, ent_s, ent_b = calc_entropy(attns)"
   ]
  },
  {
   "cell_type": "code",
   "execution_count": 19,
   "metadata": {},
   "outputs": [
    {
     "name": "stdout",
     "output_type": "stream",
     "text": [
      "3.02136974335\n"
     ]
    }
   ],
   "source": [
    "print(ent_b)"
   ]
  },
  {
   "cell_type": "code",
   "execution_count": 22,
   "metadata": {},
   "outputs": [
    {
     "data": {
      "image/png": "[encoded data removed]",
      "text/plain": [
       "<matplotlib.figure.Figure at 0x7f3ac534c518>"
      ]
     },
     "metadata": {},
     "output_type": "display_data"
    }
   ],
   "source": [
    "idx = 0\n",
    "plot_bar(attns[0,idx,:])"
   ]
  },
  {
   "cell_type": "code",
   "execution_count": null,
   "metadata": {
    "collapsed": true
   },
   "outputs": [],
   "source": []
  }
 ],
 "metadata": {
  "kernelspec": {
   "display_name": "Python 3",
   "language": "python",
   "name": "python3"
  },
  "language_info": {
   "codemirror_mode": {
    "name": "ipython",
    "version": 3
   },
   "file_extension": ".py",
   "mimetype": "text/x-python",
   "name": "python",
   "nbconvert_exporter": "python",
   "pygments_lexer": "ipython3",
   "version": "3.6.2"
  }
 },
 "nbformat": 4,
 "nbformat_minor": 2
}
